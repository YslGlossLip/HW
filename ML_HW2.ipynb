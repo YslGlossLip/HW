{
 "cells": [
  {
   "cell_type": "code",
   "execution_count": 146,
   "metadata": {},
   "outputs": [],
   "source": [
    "import pandas as pd\n",
    "import matplotlib.pyplot as plt\n",
    "import seaborn as sns\n",
    "sample = pd.read_csv('sample_submission.csv')\n",
    "test = pd.read_csv('test.csv')\n",
    "train = pd.read_csv('train.csv')"
   ]
  },
  {
   "cell_type": "code",
   "execution_count": 147,
   "metadata": {},
   "outputs": [
    {
     "data": {
      "text/plain": [
       "(30001, 12)"
      ]
     },
     "execution_count": 147,
     "metadata": {},
     "output_type": "execute_result"
    }
   ],
   "source": [
    "train.shape"
   ]
  },
  {
   "cell_type": "code",
   "execution_count": 148,
   "metadata": {},
   "outputs": [
    {
     "data": {
      "image/png": "[encoded data removed]",
      "text/plain": [
       "<Figure size 864x576 with 1 Axes>"
      ]
     },
     "metadata": {},
     "output_type": "display_data"
    }
   ],
   "source": [
    "sns.countplot(x='stroke', data = train)\n",
    "plt.show()"
   ]
  },
  {
   "cell_type": "markdown",
   "metadata": {},
   "source": [
    "So,our classes are imbalanced"
   ]
  },
  {
   "cell_type": "markdown",
   "metadata": {},
   "source": [
    "There is also missing data in some columns"
   ]
  },
  {
   "cell_type": "code",
   "execution_count": 149,
   "metadata": {},
   "outputs": [
    {
     "name": "stdout",
     "output_type": "stream",
     "text": [
      "id 0\n",
      "gender 0\n",
      "age 0\n",
      "hypertension 0\n",
      "heart_disease 0\n",
      "ever_married 0\n",
      "work_type 0\n",
      "Residence_type 0\n",
      "avg_glucose_level 0\n",
      "bmi 1017\n",
      "smoking_status 9176\n",
      "stroke 0\n"
     ]
    }
   ],
   "source": [
    "for i in train.columns:\n",
    "    print(i, (pd.isnull(train[i])).sum() )"
   ]
  },
  {
   "cell_type": "code",
   "execution_count": 150,
   "metadata": {},
   "outputs": [],
   "source": [
    "#train = train.dropna()"
   ]
  },
  {
   "cell_type": "markdown",
   "metadata": {},
   "source": [
    "'bmi' is a numeric column means we can fill it with the mean value; \n",
    "'smoking status' is filled by string 'nan'\n"
   ]
  },
  {
   "cell_type": "code",
   "execution_count": 151,
   "metadata": {},
   "outputs": [],
   "source": [
    "mean_bmi = train['bmi'].mean()\n",
    "train['bmi'] = train['bmi'].fillna(mean_bmi)\n",
    "test['bmi'] = test['bmi'].fillna(mean_bmi)\n",
    "\n",
    "train['smoking_status'] = train['smoking_status'].fillna('nan')\n",
    "test['smoking_status'] = test['smoking_status'].fillna('nan')"
   ]
  },
  {
   "cell_type": "code",
   "execution_count": 152,
   "metadata": {},
   "outputs": [
    {
     "name": "stdout",
     "output_type": "stream",
     "text": [
      "['Male' 'Female' 'Other']\n"
     ]
    }
   ],
   "source": [
    "print(train['gender'].unique())"
   ]
  },
  {
   "cell_type": "code",
   "execution_count": 153,
   "metadata": {},
   "outputs": [
    {
     "data": {
      "text/plain": [
       "Female    17676\n",
       "Male      12315\n",
       "Other        10\n",
       "Name: gender, dtype: int64"
      ]
     },
     "execution_count": 153,
     "metadata": {},
     "output_type": "execute_result"
    }
   ],
   "source": [
    "train['gender'].value_counts()"
   ]
  },
  {
   "cell_type": "markdown",
   "metadata": {},
   "source": [
    "??? okay"
   ]
  },
  {
   "cell_type": "markdown",
   "metadata": {},
   "source": [
    "Also we have to convert data to dummy variables"
   ]
  },
  {
   "cell_type": "code",
   "execution_count": 154,
   "metadata": {},
   "outputs": [
    {
     "data": {
      "text/html": [
       "<div>\n",
       "<style scoped>\n",
       "    .dataframe tbody tr th:only-of-type {\n",
       "        vertical-align: middle;\n",
       "    }\n",
       "\n",
       "    .dataframe tbody tr th {\n",
       "        vertical-align: top;\n",
       "    }\n",
       "\n",
       "    .dataframe thead th {\n",
       "        text-align: right;\n",
       "    }\n",
       "</style>\n",
       "<table border=\"1\" class=\"dataframe\">\n",
       "  <thead>\n",
       "    <tr style=\"text-align: right;\">\n",
       "      <th></th>\n",
       "      <th>id</th>\n",
       "      <th>age</th>\n",
       "      <th>hypertension</th>\n",
       "      <th>heart_disease</th>\n",
       "      <th>avg_glucose_level</th>\n",
       "      <th>bmi</th>\n",
       "      <th>stroke</th>\n",
       "      <th>gender_Female</th>\n",
       "      <th>gender_Male</th>\n",
       "      <th>gender_Other</th>\n",
       "      <th>...</th>\n",
       "      <th>work_type_Never_worked</th>\n",
       "      <th>work_type_Private</th>\n",
       "      <th>work_type_Self-employed</th>\n",
       "      <th>work_type_children</th>\n",
       "      <th>Residence_type_Rural</th>\n",
       "      <th>Residence_type_Urban</th>\n",
       "      <th>smoking_status_formerly smoked</th>\n",
       "      <th>smoking_status_nan</th>\n",
       "      <th>smoking_status_never smoked</th>\n",
       "      <th>smoking_status_smokes</th>\n",
       "    </tr>\n",
       "  </thead>\n",
       "  <tbody>\n",
       "    <tr>\n",
       "      <td>0</td>\n",
       "      <td>30669</td>\n",
       "      <td>3.0</td>\n",
       "      <td>0</td>\n",
       "      <td>0</td>\n",
       "      <td>95.12</td>\n",
       "      <td>18.0</td>\n",
       "      <td>0</td>\n",
       "      <td>0</td>\n",
       "      <td>1</td>\n",
       "      <td>0</td>\n",
       "      <td>...</td>\n",
       "      <td>0</td>\n",
       "      <td>0</td>\n",
       "      <td>0</td>\n",
       "      <td>1</td>\n",
       "      <td>1</td>\n",
       "      <td>0</td>\n",
       "      <td>0</td>\n",
       "      <td>1</td>\n",
       "      <td>0</td>\n",
       "      <td>0</td>\n",
       "    </tr>\n",
       "    <tr>\n",
       "      <td>1</td>\n",
       "      <td>30468</td>\n",
       "      <td>58.0</td>\n",
       "      <td>1</td>\n",
       "      <td>0</td>\n",
       "      <td>87.96</td>\n",
       "      <td>39.2</td>\n",
       "      <td>0</td>\n",
       "      <td>0</td>\n",
       "      <td>1</td>\n",
       "      <td>0</td>\n",
       "      <td>...</td>\n",
       "      <td>0</td>\n",
       "      <td>1</td>\n",
       "      <td>0</td>\n",
       "      <td>0</td>\n",
       "      <td>0</td>\n",
       "      <td>1</td>\n",
       "      <td>0</td>\n",
       "      <td>0</td>\n",
       "      <td>1</td>\n",
       "      <td>0</td>\n",
       "    </tr>\n",
       "    <tr>\n",
       "      <td>2</td>\n",
       "      <td>16523</td>\n",
       "      <td>8.0</td>\n",
       "      <td>0</td>\n",
       "      <td>0</td>\n",
       "      <td>110.89</td>\n",
       "      <td>17.6</td>\n",
       "      <td>0</td>\n",
       "      <td>1</td>\n",
       "      <td>0</td>\n",
       "      <td>0</td>\n",
       "      <td>...</td>\n",
       "      <td>0</td>\n",
       "      <td>1</td>\n",
       "      <td>0</td>\n",
       "      <td>0</td>\n",
       "      <td>0</td>\n",
       "      <td>1</td>\n",
       "      <td>0</td>\n",
       "      <td>1</td>\n",
       "      <td>0</td>\n",
       "      <td>0</td>\n",
       "    </tr>\n",
       "    <tr>\n",
       "      <td>3</td>\n",
       "      <td>56543</td>\n",
       "      <td>70.0</td>\n",
       "      <td>0</td>\n",
       "      <td>0</td>\n",
       "      <td>69.04</td>\n",
       "      <td>35.9</td>\n",
       "      <td>0</td>\n",
       "      <td>1</td>\n",
       "      <td>0</td>\n",
       "      <td>0</td>\n",
       "      <td>...</td>\n",
       "      <td>0</td>\n",
       "      <td>1</td>\n",
       "      <td>0</td>\n",
       "      <td>0</td>\n",
       "      <td>1</td>\n",
       "      <td>0</td>\n",
       "      <td>1</td>\n",
       "      <td>0</td>\n",
       "      <td>0</td>\n",
       "      <td>0</td>\n",
       "    </tr>\n",
       "    <tr>\n",
       "      <td>4</td>\n",
       "      <td>46136</td>\n",
       "      <td>14.0</td>\n",
       "      <td>0</td>\n",
       "      <td>0</td>\n",
       "      <td>161.28</td>\n",
       "      <td>19.1</td>\n",
       "      <td>0</td>\n",
       "      <td>0</td>\n",
       "      <td>1</td>\n",
       "      <td>0</td>\n",
       "      <td>...</td>\n",
       "      <td>1</td>\n",
       "      <td>0</td>\n",
       "      <td>0</td>\n",
       "      <td>0</td>\n",
       "      <td>1</td>\n",
       "      <td>0</td>\n",
       "      <td>0</td>\n",
       "      <td>1</td>\n",
       "      <td>0</td>\n",
       "      <td>0</td>\n",
       "    </tr>\n",
       "  </tbody>\n",
       "</table>\n",
       "<p>5 rows × 23 columns</p>\n",
       "</div>"
      ],
      "text/plain": [
       "      id   age  hypertension  heart_disease  avg_glucose_level   bmi  stroke  \\\n",
       "0  30669   3.0             0              0              95.12  18.0       0   \n",
       "1  30468  58.0             1              0              87.96  39.2       0   \n",
       "2  16523   8.0             0              0             110.89  17.6       0   \n",
       "3  56543  70.0             0              0              69.04  35.9       0   \n",
       "4  46136  14.0             0              0             161.28  19.1       0   \n",
       "\n",
       "   gender_Female  gender_Male  gender_Other  ...  work_type_Never_worked  \\\n",
       "0              0            1             0  ...                       0   \n",
       "1              0            1             0  ...                       0   \n",
       "2              1            0             0  ...                       0   \n",
       "3              1            0             0  ...                       0   \n",
       "4              0            1             0  ...                       1   \n",
       "\n",
       "   work_type_Private  work_type_Self-employed  work_type_children  \\\n",
       "0                  0                        0                   1   \n",
       "1                  1                        0                   0   \n",
       "2                  1                        0                   0   \n",
       "3                  1                        0                   0   \n",
       "4                  0                        0                   0   \n",
       "\n",
       "   Residence_type_Rural  Residence_type_Urban  smoking_status_formerly smoked  \\\n",
       "0                     1                     0                               0   \n",
       "1                     0                     1                               0   \n",
       "2                     0                     1                               0   \n",
       "3                     1                     0                               1   \n",
       "4                     1                     0                               0   \n",
       "\n",
       "   smoking_status_nan  smoking_status_never smoked  smoking_status_smokes  \n",
       "0                   1                            0                      0  \n",
       "1                   0                            1                      0  \n",
       "2                   1                            0                      0  \n",
       "3                   0                            0                      0  \n",
       "4                   1                            0                      0  \n",
       "\n",
       "[5 rows x 23 columns]"
      ]
     },
     "execution_count": 154,
     "metadata": {},
     "output_type": "execute_result"
    }
   ],
   "source": [
    "train_new = pd.get_dummies(train)\n",
    "test_new = pd.get_dummies(test)\n",
    "#all_feat = train_new.columns\n",
    "train_new.head()"
   ]
  },
  {
   "cell_type": "code",
   "execution_count": 155,
   "metadata": {},
   "outputs": [
    {
     "data": {
      "text/plain": [
       "<matplotlib.axes._subplots.AxesSubplot at 0x18fa2b0f188>"
      ]
     },
     "execution_count": 155,
     "metadata": {},
     "output_type": "execute_result"
    },
    {
     "data": {
      "image/png": "[encoded data removed]",
      "text/plain": [
       "<Figure size 864x576 with 1 Axes>"
      ]
     },
     "metadata": {},
     "output_type": "display_data"
    }
   ],
   "source": [
    "dat = train_new[[\"age\",\"avg_glucose_level\",\"bmi\"]]\n",
    "sns.boxplot(orient = \"h\", data=dat, fliersize = 2)"
   ]
  },
  {
   "cell_type": "markdown",
   "metadata": {},
   "source": [
    "So, boxplot shows that 'bmi' and 'avg_glucose_level' have outliers. "
   ]
  },
  {
   "cell_type": "code",
   "execution_count": 156,
   "metadata": {},
   "outputs": [],
   "source": [
    "train_final = train_new[train_new[\"bmi\"]<2*train_new[\"bmi\"].mean()]\n",
    "train_final = train_final[train_final[\"avg_glucose_level\"]<2*train_final[\"avg_glucose_level\"].mean()]"
   ]
  },
  {
   "cell_type": "code",
   "execution_count": 157,
   "metadata": {},
   "outputs": [],
   "source": [
    "from sklearn.model_selection import KFold\n",
    "from sklearn.metrics import roc_auc_score"
   ]
  },
  {
   "cell_type": "markdown",
   "metadata": {},
   "source": [
    "ROC metric for binary classification with imbalanced classes. KFold strategy for train data separation."
   ]
  },
  {
   "cell_type": "code",
   "execution_count": 158,
   "metadata": {},
   "outputs": [],
   "source": [
    "def cross_validation_for_roc_auc( clf, X, y ,cv=5):\n",
    "    X = np.array(X.copy())\n",
    "    y = np.array(y.copy())\n",
    "    kf = KFold(n_splits=cv)\n",
    "    kf.get_n_splits(X)\n",
    "    scores = []\n",
    "    for train_index, test_index in kf.split(X):\n",
    "        #print(\"TRAIN:\", train_index, \"TEST:\", test_index)\n",
    "        X_train, X_test = X[train_index], X[test_index]\n",
    "        y_train, y_test = y[train_index], y[test_index]\n",
    "        \n",
    "        clf.fit(X_train, y_train)\n",
    "        prediction_on_this_fold = clf.predict_proba(X_test)[:,1]\n",
    "        score = roc_auc_score(y_score=prediction_on_this_fold, y_true=y_test)\n",
    "        scores.append(score)\n",
    "    \n",
    "    return scores# ROC-score on each fold"
   ]
  },
  {
   "cell_type": "code",
   "execution_count": 159,
   "metadata": {},
   "outputs": [],
   "source": [
    "from sklearn.linear_model import SGDClassifier\n",
    "from sklearn.tree import DecisionTreeClassifier\n",
    "from sklearn.linear_model import LogisticRegression\n",
    "from sklearn.ensemble import RandomForestClassifier\n",
    "import numpy as np"
   ]
  },
  {
   "cell_type": "code",
   "execution_count": 160,
   "metadata": {},
   "outputs": [],
   "source": [
    "models = [\n",
    "    SGDClassifier(loss='log'),\n",
    "    #LogisticRegression(),\n",
    "    DecisionTreeClassifier(),\n",
    "    RandomForestClassifier()\n",
    "]\n",
    "all_features = train_final.columns"
   ]
  },
  {
   "cell_type": "code",
   "execution_count": 161,
   "metadata": {},
   "outputs": [
    {
     "name": "stdout",
     "output_type": "stream",
     "text": [
      "model\n",
      "id 0.499892086159885\n",
      "age 0.8423541623392954\n",
      "hypertension 0.5809088488953011\n",
      "heart_disease 0.5680378189697567\n",
      "avg_glucose_level 0.49518430152865134\n",
      "bmi 0.4725613211682493\n",
      "stroke 1.0\n",
      "gender_Female 0.5192675620993079\n",
      "gender_Male 0.49209351996975315\n",
      "gender_Other 0.5001799600662941\n",
      "ever_married_No 0.6281026079431588\n",
      "ever_married_Yes 0.6281026079431588\n",
      "work_type_Govt_job 0.4877640920529389\n",
      "work_type_Never_worked 0.5020325305840154\n",
      "work_type_Private 0.5057124406645539\n",
      "work_type_Self-employed 0.5762066933371766\n",
      "work_type_children 0.572601178758118\n",
      "Residence_type_Rural 0.4978170571804503\n",
      "Residence_type_Urban 0.48642126340142877\n",
      "smoking_status_formerly smoked 0.5578969872800652\n",
      "smoking_status_nan 0.5552055968938265\n",
      "smoking_status_never smoked 0.5040757666495722\n",
      "smoking_status_smokes 0.5013255407932486\n",
      "model\n",
      "id 0.4977846736009047\n",
      "age 0.8292070074940255\n",
      "hypertension 0.5809088488953011\n",
      "heart_disease 0.5680378189697567\n",
      "avg_glucose_level 0.4900107411484488\n",
      "bmi 0.5858948282318505\n",
      "stroke 1.0\n",
      "gender_Female 0.5192675620993079\n",
      "gender_Male 0.5194475221656021\n",
      "gender_Other 0.5001799600662941\n",
      "ever_married_No 0.6281026079431588\n",
      "ever_married_Yes 0.6281026079431588\n",
      "work_type_Govt_job 0.4854725594455531\n",
      "work_type_Never_worked 0.5020325305840154\n",
      "work_type_Private 0.4760828841098954\n",
      "work_type_Self-employed 0.5762066933371766\n",
      "work_type_children 0.572601178758118\n",
      "Residence_type_Rural 0.48642126340142877\n",
      "Residence_type_Urban 0.48642126340142877\n",
      "smoking_status_formerly smoked 0.5578969872800652\n",
      "smoking_status_nan 0.5552055968938265\n",
      "smoking_status_never smoked 0.5084442277545836\n",
      "smoking_status_smokes 0.505752837368345\n",
      "model\n"
     ]
    },
    {
     "name": "stderr",
     "output_type": "stream",
     "text": [
      "C:\\Users\\MI\\Anaconda3\\lib\\site-packages\\sklearn\\ensemble\\forest.py:245: FutureWarning: The default value of n_estimators will change from 10 in version 0.20 to 100 in 0.22.\n",
      "  \"10 in version 0.20 to 100 in 0.22.\", FutureWarning)\n"
     ]
    },
    {
     "name": "stdout",
     "output_type": "stream",
     "text": [
      "id 0.4959701051349844\n",
      "age 0.8306628325332046\n",
      "hypertension 0.5809088488953011\n",
      "heart_disease 0.5680378189697567\n",
      "avg_glucose_level 0.4942186186134503\n",
      "bmi 0.5895983707685856\n",
      "stroke 1.0\n",
      "gender_Female 0.5192675620993079\n",
      "gender_Male 0.49209351996975315\n",
      "gender_Other 0.5001799600662941\n",
      "ever_married_No 0.6281026079431588\n",
      "ever_married_Yes 0.6281026079431588\n",
      "work_type_Govt_job 0.4854725594455531\n",
      "work_type_Never_worked 0.5020325305840154\n",
      "work_type_Private 0.47420063496086395\n",
      "work_type_Self-employed 0.5762066933371766\n",
      "work_type_children 0.572601178758118\n",
      "Residence_type_Rural 0.48642126340142877\n",
      "Residence_type_Urban 0.48642126340142877\n",
      "smoking_status_formerly smoked 0.5578969872800652\n",
      "smoking_status_nan 0.5552055968938265\n",
      "smoking_status_never smoked 0.5084442277545836\n",
      "smoking_status_smokes 0.505752837368345\n"
     ]
    }
   ],
   "source": [
    "for model in models:\n",
    "    features_scores = {}\n",
    "    print('model')\n",
    "\n",
    "    for f in all_features:\n",
    "        scores = cross_validation_for_roc_auc(model, train_final[[f]] , train_final['stroke'])\n",
    "        print(f,  np.mean(scores))\n",
    "        features_scores[f] = np.mean(scores)"
   ]
  },
  {
   "cell_type": "markdown",
   "metadata": {},
   "source": [
    "roc-auc value about 0.5 means that classifier works randomly. despite the low value at 'avg_glucose_level', I think it should also be taken into account"
   ]
  },
  {
   "cell_type": "code",
   "execution_count": 162,
   "metadata": {},
   "outputs": [],
   "source": [
    "features = [ 'age', 'hypertension', 'heart_disease', 'avg_glucose_level',\n",
    "       'bmi', 'ever_married_No',\n",
    "        'ever_married_Yes', 'work_type_Self-employed',\n",
    "      'work_type_children']"
   ]
  },
  {
   "cell_type": "markdown",
   "metadata": {},
   "source": [
    "LogisticRegression"
   ]
  },
  {
   "cell_type": "code",
   "execution_count": 171,
   "metadata": {},
   "outputs": [
    {
     "name": "stdout",
     "output_type": "stream",
     "text": [
      "10 0.6670829077003102\n",
      "20 0.84700734790695\n",
      "30 0.8474007664626549\n",
      "40 0.8474007664626549\n",
      "50 0.8474007664626549\n",
      "60 0.8474007664626549\n",
      "70 0.8474007664626549\n",
      "80 0.8474007664626549\n",
      "90 0.8474007664626549\n"
     ]
    },
    {
     "data": {
      "image/png": "[encoded data removed]",
      "text/plain": [
       "<Figure size 720x576 with 1 Axes>"
      ]
     },
     "metadata": {},
     "output_type": "display_data"
    }
   ],
   "source": [
    "import warnings\n",
    "warnings.filterwarnings('ignore')\n",
    "x = []\n",
    "y1 = []\n",
    "\n",
    "for num in range(10,100,10):\n",
    "    model = LogisticRegression(max_iter = num)\n",
    "    scores_target = cross_validation_for_roc_auc(model, train_final[features] , train_final['stroke'])\n",
    "    x.append(num)\n",
    "    y1.append(np.mean(scores_target))\n",
    "    print(num, np.mean(scores_target))\n",
    "fig, ax = plt.subplots(figsize=(10,8),)\n",
    "plt.plot(x, y1, label='target')\n",
    "plt.show()"
   ]
  },
  {
   "cell_type": "code",
   "execution_count": 172,
   "metadata": {},
   "outputs": [
    {
     "name": "stdout",
     "output_type": "stream",
     "text": [
      "1 0.3254828445109746\n",
      "2 0.32636808752534535\n",
      "3 0.32955119814144945\n",
      "4 0.4493413735785966\n",
      "5 0.5507143815482948\n",
      "6 0.546862867119911\n",
      "7 0.6589477837217347\n",
      "8 0.6469189404303541\n",
      "9 0.6731698452764047\n",
      "10 0.6670829077003102\n",
      "11 0.7018388819012997\n",
      "12 0.751209607264066\n",
      "13 0.7610106162291744\n",
      "14 0.8040041591866436\n",
      "15 0.8297780883964749\n",
      "16 0.8292626923658375\n",
      "17 0.84268909285045\n",
      "18 0.8471935680405936\n",
      "19 0.8466625698479439\n"
     ]
    },
    {
     "data": {
      "image/png": "[encoded data removed]",
      "text/plain": [
       "<Figure size 800x640 with 1 Axes>"
      ]
     },
     "metadata": {},
     "output_type": "display_data"
    }
   ],
   "source": [
    "for num in range(1,20):\n",
    "    model = LogisticRegression(max_iter = num)\n",
    "    scores_target = cross_validation_for_roc_auc(model, train_final[features] , train_final['stroke'])\n",
    "    x.append(num)\n",
    "    y1.append(np.mean(scores_target))\n",
    "    print(num, np.mean(scores_target))\n",
    "fig, ax = plt.subplots(figsize=(10,8), dpi=80)\n",
    "plt.plot(x, y1)\n",
    "plt.show()"
   ]
  },
  {
   "cell_type": "code",
   "execution_count": 179,
   "metadata": {},
   "outputs": [
    {
     "name": "stdout",
     "output_type": "stream",
     "text": [
      "300 0.8496275476294632\n",
      "350 0.8508620197873427\n",
      "400 0.8498746641279723\n",
      "450 0.8503940941841936\n",
      "500 0.8509258415715071\n",
      "550 0.8504383841313125\n"
     ]
    },
    {
     "data": {
      "image/png": "[encoded data removed]",
      "text/plain": [
       "<Figure size 800x640 with 1 Axes>"
      ]
     },
     "metadata": {},
     "output_type": "display_data"
    }
   ],
   "source": [
    "x = []\n",
    "y1 = []\n",
    "for num in range(300,600,50):\n",
    "    model = RandomForestClassifier(n_estimators=num, max_depth=7)\n",
    "    scores_target = cross_validation_for_roc_auc(model, train_final[features] , train_final['stroke'])\n",
    "    x.append(num)\n",
    "    y1.append(np.mean(scores_target))\n",
    "    print(num, np.mean(scores_target))\n",
    "fig, ax = plt.subplots(figsize=(10,8), dpi=80)\n",
    "plt.plot(x, y1, label='target')\n",
    "plt.show()"
   ]
  },
  {
   "cell_type": "code",
   "execution_count": 181,
   "metadata": {},
   "outputs": [
    {
     "name": "stdout",
     "output_type": "stream",
     "text": [
      "2 0.8396663094414102\n",
      "3 0.8431890432222311\n",
      "4 0.8453676265996682\n",
      "5 0.8474218810645464\n",
      "6 0.8500480010067453\n",
      "7 0.8498448316742089\n",
      "8 0.8492649106539171\n",
      "9 0.8450442408230895\n"
     ]
    },
    {
     "data": {
      "image/png": "[encoded data removed]",
      "text/plain": [
       "<Figure size 800x640 with 1 Axes>"
      ]
     },
     "metadata": {},
     "output_type": "display_data"
    }
   ],
   "source": [
    "x = []\n",
    "y1 = []\n",
    "for num in range(2,10):\n",
    "    model = RandomForestClassifier(n_estimators=500, max_depth=num)\n",
    "    scores_target = cross_validation_for_roc_auc(model, train_final[features] , train_final['stroke'])\n",
    "    x.append(num)\n",
    "    y1.append(np.mean(scores_target))\n",
    "    print(num, np.mean(scores_target))\n",
    "fig, ax = plt.subplots(figsize=(10,8), dpi=80)\n",
    "plt.plot(x, y1, label='target')\n",
    "plt.show()"
   ]
  },
  {
   "cell_type": "markdown",
   "metadata": {},
   "source": [
    "these plots are useless\n"
   ]
  },
  {
   "cell_type": "code",
   "execution_count": 180,
   "metadata": {},
   "outputs": [
    {
     "name": "stdout",
     "output_type": "stream",
     "text": [
      "2 0.8029451787356369\n",
      "3 0.8271582768087452\n",
      "4 0.8326587668542775\n",
      "5 0.8268465590808016\n",
      "6 0.8211850835543855\n",
      "7 0.7877148677928114\n",
      "8 0.7498007721829426\n",
      "9 0.7288842045158546\n"
     ]
    },
    {
     "data": {
      "image/png": "[encoded data removed]",
      "text/plain": [
       "<Figure size 800x640 with 1 Axes>"
      ]
     },
     "metadata": {},
     "output_type": "display_data"
    }
   ],
   "source": [
    "\n",
    "\n",
    "x = []\n",
    "y1 = []\n",
    "for num in range(2,10):\n",
    "    model = DecisionTreeClassifier(max_depth=num)\n",
    "    scores_target = cross_validation_for_roc_auc(model, train_final[features] , train_final['stroke'])\n",
    "    x.append(num)\n",
    "    y1.append(np.mean(scores_target))\n",
    "    print(num, np.mean(scores_target))\n",
    "fig, ax = plt.subplots(figsize=(10,8), dpi=80)\n",
    "plt.plot(x, y1, label='target')\n",
    "plt.show()\n"
   ]
  },
  {
   "cell_type": "code",
   "execution_count": 183,
   "metadata": {},
   "outputs": [],
   "source": [
    "classif = RandomForestClassifier(n_estimators=500, max_depth=7)\n",
    "\n",
    "classif.fit(train_final[features] , train_final['stroke'])\n",
    "prediction = classif.predict_proba(test_new[features])[:,1]\n",
    "sample['stroke'] = prediction"
   ]
  },
  {
   "cell_type": "code",
   "execution_count": 184,
   "metadata": {},
   "outputs": [],
   "source": [
    "sample.to_csv('submission.csv', index = None )"
   ]
  },
  {
   "cell_type": "code",
   "execution_count": null,
   "metadata": {},
   "outputs": [],
   "source": []
  }
 ],
 "metadata": {
  "kernelspec": {
   "display_name": "Python 3",
   "language": "python",
   "name": "python3"
  },
  "language_info": {
   "codemirror_mode": {
    "name": "ipython",
    "version": 3
   },
   "file_extension": ".py",
   "mimetype": "text/x-python",
   "name": "python",
   "nbconvert_exporter": "python",
   "pygments_lexer": "ipython3",
   "version": "3.7.4"
  }
 },
 "nbformat": 4,
 "nbformat_minor": 2
}
