{
 "cells": [
  {
   "cell_type": "code",
   "execution_count": 557,
   "metadata": {},
   "outputs": [],
   "source": [
    "import seaborn as sns\n",
    "import numpy as np\n",
    "from statsmodels.stats.gof import gof_binning_discrete\n",
    "import matplotlib.pyplot as plt\n",
    "import math"
   ]
  },
  {
   "cell_type": "markdown",
   "metadata": {},
   "source": [
    "### Generating a sample from Poisson distribution"
   ]
  },
  {
   "cell_type": "code",
   "execution_count": 558,
   "metadata": {},
   "outputs": [
    {
     "data": {
      "image/png": "[encoded data removed]",
      "text/plain": [
       "<Figure size 432x288 with 1 Axes>"
      ]
     },
     "metadata": {
      "needs_background": "light"
     },
     "output_type": "display_data"
    }
   ],
   "source": [
    "mu = 20\n",
    "\n",
    "pois = stats.poisson.rvs(mu = mu, size = 200)\n",
    "sns.distplot(pois, hist=True)\n",
    "plt.show()\n",
    "\n"
   ]
  },
  {
   "cell_type": "markdown",
   "metadata": {},
   "source": [
    "#### Testing the hypothesis that the parameter is equal to a given value using chi-squered test"
   ]
  },
  {
   "cell_type": "code",
   "execution_count": 559,
   "metadata": {},
   "outputs": [
    {
     "name": "stdout",
     "output_type": "stream",
     "text": [
      "10.970357572505998 0.6133009622396255\n",
      "Test passed \n"
     ]
    }
   ],
   "source": [
    "from scipy import stats\n",
    "\n",
    "f_obs, f_exp, histsupp = gof_binning_discrete(pois, stats.poisson, (mu, ))\n",
    "\n",
    "chi, p = stats.chisquare(f_obs, f_exp)\n",
    "print(chi, p)\n",
    "if p>= 0.05:\n",
    "    print('Test passed ')\n",
    "else:\n",
    "    print('Test failed')\n"
   ]
  },
  {
   "cell_type": "code",
   "execution_count": 560,
   "metadata": {},
   "outputs": [
    {
     "name": "stdout",
     "output_type": "stream",
     "text": [
      "4766.635709997711 0.0\n",
      "Test failed\n"
     ]
    }
   ],
   "source": [
    "mu_2 = 10\n",
    "f_obs, f_exp, histsupp = gof_binning_discrete(pois, stats.poisson, (mu_2, ))\n",
    "\n",
    "chi, p = stats.chisquare(f_obs, f_exp)\n",
    "print(chi, p)\n",
    "if p>= 0.05:\n",
    "    print('Test passed ')\n",
    "else:\n",
    "    print('Test failed')\n"
   ]
  },
  {
   "cell_type": "markdown",
   "metadata": {},
   "source": [
    "### Constructing the prior distribution (gamma) from this sample"
   ]
  },
  {
   "cell_type": "markdown",
   "metadata": {},
   "source": [
    "First, we have to find parameters for gamma distribution.\n"
   ]
  },
  {
   "cell_type": "code",
   "execution_count": 561,
   "metadata": {},
   "outputs": [],
   "source": [
    "from scipy.stats import gamma"
   ]
  },
  {
   "cell_type": "markdown",
   "metadata": {},
   "source": [
    "$$E(\\theta) = \\frac{\\alpha_0}{\\beta_0}$$ <br/>   $$var(\\theta) = \\frac{\\alpha_0}{\\beta_0^2}$$"
   ]
  },
  {
   "cell_type": "code",
   "execution_count": 562,
   "metadata": {},
   "outputs": [
    {
     "data": {
      "text/plain": [
       "(19.955, 16.442975)"
      ]
     },
     "execution_count": 562,
     "metadata": {},
     "output_type": "execute_result"
    }
   ],
   "source": [
    "var_pois = np.var(pois)\n",
    "mean_pois = np.mean(pois)\n",
    "mean_pois, var_pois"
   ]
  },
  {
   "cell_type": "markdown",
   "metadata": {},
   "source": [
    "$$\\alpha_0 = \\frac{(E(\\theta))^2}{var(\\theta)}$$ <br/>   $$\\beta_0 = \\frac{\\alpha_0}{E(\\theta)}$$"
   ]
  },
  {
   "cell_type": "code",
   "execution_count": 563,
   "metadata": {},
   "outputs": [],
   "source": [
    "alpha = (mean_pois)**2/var_pois"
   ]
  },
  {
   "cell_type": "code",
   "execution_count": 564,
   "metadata": {},
   "outputs": [],
   "source": [
    "beta = alpha/mean_pois"
   ]
  },
  {
   "cell_type": "code",
   "execution_count": 565,
   "metadata": {},
   "outputs": [
    {
     "data": {
      "text/plain": [
       "19.130997243798543"
      ]
     },
     "execution_count": 565,
     "metadata": {},
     "output_type": "execute_result"
    }
   ],
   "source": [
    "(alpha-1)/beta"
   ]
  },
  {
   "cell_type": "code",
   "execution_count": 566,
   "metadata": {},
   "outputs": [
    {
     "data": {
      "text/plain": [
       "(24.217152005643744, 1.2135881736729515)"
      ]
     },
     "execution_count": 566,
     "metadata": {},
     "output_type": "execute_result"
    }
   ],
   "source": [
    "alpha, beta"
   ]
  },
  {
   "cell_type": "code",
   "execution_count": 567,
   "metadata": {},
   "outputs": [
    {
     "data": {
      "text/plain": [
       "(24.217152005643744, 0.8240027562014534)"
      ]
     },
     "execution_count": 567,
     "metadata": {},
     "output_type": "execute_result"
    }
   ],
   "source": [
    "shape = alpha\n",
    "scale = 1/beta\n",
    "shape, scale"
   ]
  },
  {
   "cell_type": "code",
   "execution_count": 568,
   "metadata": {},
   "outputs": [],
   "source": [
    "gam = gamma.rvs(a = shape, scale = scale, size = 200)"
   ]
  },
  {
   "cell_type": "code",
   "execution_count": 569,
   "metadata": {},
   "outputs": [
    {
     "data": {
      "image/png": "[encoded data removed]",
      "text/plain": [
       "<Figure size 432x288 with 1 Axes>"
      ]
     },
     "metadata": {
      "needs_background": "light"
     },
     "output_type": "display_data"
    }
   ],
   "source": [
    "sns.distplot(gam, hist=False, label='gamma')\n",
    "plt.show()"
   ]
  },
  {
   "cell_type": "code",
   "execution_count": 570,
   "metadata": {},
   "outputs": [
    {
     "data": {
      "image/png": "[encoded data removed]",
      "text/plain": [
       "<Figure size 432x288 with 1 Axes>"
      ]
     },
     "metadata": {
      "needs_background": "light"
     },
     "output_type": "display_data"
    }
   ],
   "source": [
    "sns.distplot(pois, hist=False, label='poisson')\n",
    "sns.distplot(gam, hist=False, label='gamma')\n",
    "\n",
    "\n",
    "plt.show()"
   ]
  },
  {
   "cell_type": "code",
   "execution_count": 571,
   "metadata": {},
   "outputs": [],
   "source": [
    "mu_2 = 20\n",
    "size_2 = 150\n",
    "pois_2 = np.random.poisson(mu_2, size = size_2)"
   ]
  },
  {
   "cell_type": "markdown",
   "metadata": {},
   "source": [
    "### Constructing the likelihood function and finding the MLE of the parameter "
   ]
  },
  {
   "cell_type": "markdown",
   "metadata": {},
   "source": [
    "$$L(\\theta|y) \\equiv \\prod_{i=1}^n p(y_i|\\theta)=\\prod_{i=1}^n (\\theta^{y_i}/y_i!) e^{-n\\theta}\\propto \\theta^{n\\bar{y}}e^{-n\\theta} $$ "
   ]
  },
  {
   "cell_type": "markdown",
   "metadata": {},
   "source": [
    "$$ ln(L(\\theta|y)) = \\bar{y}n ln\\theta - n\\theta $$"
   ]
  },
  {
   "cell_type": "markdown",
   "metadata": {},
   "source": [
    "$$ \\frac{dln(L(\\theta|y))}{d\\theta} = \\frac{\\bar{y}n}{\\theta} - n = 0$$"
   ]
  },
  {
   "cell_type": "markdown",
   "metadata": {},
   "source": [
    "So, MLE $$\\hat{\\theta} = \\bar{y} $$"
   ]
  },
  {
   "cell_type": "code",
   "execution_count": 572,
   "metadata": {},
   "outputs": [],
   "source": [
    "#likelihood = np.prod(stats.poisson.pmf(pois, mu))"
   ]
  },
  {
   "cell_type": "code",
   "execution_count": 573,
   "metadata": {},
   "outputs": [
    {
     "data": {
      "text/plain": [
       "19.955"
      ]
     },
     "execution_count": 573,
     "metadata": {},
     "output_type": "execute_result"
    }
   ],
   "source": [
    "theta = sum(pois)/200\n",
    "theta"
   ]
  },
  {
   "cell_type": "markdown",
   "metadata": {},
   "source": [
    "### Constructing the posterior distribution"
   ]
  },
  {
   "cell_type": "markdown",
   "metadata": {},
   "source": [
    "$$p(\\theta|y) \\propto e^{-n\\theta} \\prod_{i=1}^n (\\theta^{y_i}/y_i!) \\frac{\\beta_0^{\\alpha_0}}{Г(\\alpha_0)} \\theta^{\\alpha_0-1}e^{-\\beta_0 \\theta} \\propto \\theta^{(\\sum(y_i)+\\alpha_0)-1}e^{-(n+\\beta_0)\\theta}$$"
   ]
  },
  {
   "cell_type": "markdown",
   "metadata": {},
   "source": [
    "So, it's gamma distribution with $$ \\bar{\\alpha} = \\sum{y_i} + \\alpha_0$$ <br/> $$ \\bar{\\beta} = n + \\beta_0$$"
   ]
  },
  {
   "cell_type": "code",
   "execution_count": 574,
   "metadata": {},
   "outputs": [
    {
     "data": {
      "text/plain": [
       "(4015.2171520056436, 201.21358817367295)"
      ]
     },
     "execution_count": 574,
     "metadata": {},
     "output_type": "execute_result"
    }
   ],
   "source": [
    "alpha_2 = sum(pois) + alpha\n",
    "beta_2 =200 + beta\n",
    "\n",
    "alpha_2, beta_2"
   ]
  },
  {
   "cell_type": "markdown",
   "metadata": {},
   "source": [
    "MLE $$\\hat{\\theta} = \\bar{y} =19.96 $$ and max of prior $$ \\hat{\\theta_{M0}} = \\frac{\\alpha_0-1}{\\beta_0}= 19.1 $$"
   ]
  },
  {
   "cell_type": "markdown",
   "metadata": {},
   "source": [
    "$$\\hat{\\theta_M} = \\frac{\\bar{\\alpha}-1}{\\bar{\\beta}} $$"
   ]
  },
  {
   "cell_type": "code",
   "execution_count": 575,
   "metadata": {},
   "outputs": [
    {
     "data": {
      "text/plain": [
       "19.950030156715176"
      ]
     },
     "execution_count": 575,
     "metadata": {},
     "output_type": "execute_result"
    }
   ],
   "source": [
    "theta_M = (alpha_2-1)/beta_2\n",
    "theta_M"
   ]
  },
  {
   "cell_type": "markdown",
   "metadata": {},
   "source": [
    "$$\\hat{\\theta_M} = 19.95$$"
   ]
  },
  {
   "cell_type": "code",
   "execution_count": 576,
   "metadata": {},
   "outputs": [
    {
     "data": {
      "image/png": "[encoded data removed]",
      "text/plain": [
       "<Figure size 432x288 with 1 Axes>"
      ]
     },
     "metadata": {
      "needs_background": "light"
     },
     "output_type": "display_data"
    }
   ],
   "source": [
    "posterior = gamma.rvs(a = alpha_2, scale = 1/beta_2, size = 200)\n",
    "\n",
    "sns.distplot(posterior, hist=False, label='posterior')\n",
    "plt.show()"
   ]
  },
  {
   "cell_type": "markdown",
   "metadata": {},
   "source": [
    "\n",
    "### Constructing a histogram of the posterior"
   ]
  },
  {
   "cell_type": "code",
   "execution_count": 644,
   "metadata": {},
   "outputs": [
    {
     "data": {
      "text/plain": [
       "<matplotlib.axes._subplots.AxesSubplot at 0x1dc50e8b348>"
      ]
     },
     "execution_count": 644,
     "metadata": {},
     "output_type": "execute_result"
    },
    {
     "data": {
      "image/png": "[encoded data removed]",
      "text/plain": [
       "<Figure size 432x288 with 1 Axes>"
      ]
     },
     "metadata": {
      "needs_background": "light"
     },
     "output_type": "display_data"
    }
   ],
   "source": [
    "nmu = alpha_2/beta_2\n",
    "ns = (math.sqrt(alpha_2))/beta_2\n",
    "s = stats.norm.rvs(nmu, ns, 200)\n",
    "\n",
    "plt.hist(posterior, density = True)\n",
    "sns.distplot(s, hist=False)"
   ]
  },
  {
   "cell_type": "code",
   "execution_count": 632,
   "metadata": {},
   "outputs": [],
   "source": [
    "posterior_sample = np.random.choice(a= posterior, size = 80)   "
   ]
  },
  {
   "cell_type": "code",
   "execution_count": 633,
   "metadata": {},
   "outputs": [
    {
     "data": {
      "text/plain": [
       "array([20.45488997, 20.12615258, 19.73802068, 19.79513977, 20.23937718,\n",
       "       20.16700062, 19.65187102, 20.15603331, 19.86642998, 20.49740729,\n",
       "       20.15249068, 20.22813225, 19.58861608, 20.10548543, 20.31391132,\n",
       "       20.08310677, 19.87690817, 19.73891012, 19.9879194 , 19.68722862,\n",
       "       19.9175482 , 20.01226714, 19.93131645, 20.45113594, 20.19104958,\n",
       "       20.04681232, 20.14356961, 20.3799482 , 19.80312587, 19.83100279,\n",
       "       20.08310677, 19.82537613, 19.65187102, 19.60205454, 19.85044595,\n",
       "       19.51574235, 19.9832951 , 20.08310677, 20.3799482 , 20.38940762,\n",
       "       19.60505295, 19.42807938, 20.2261753 , 19.9278895 , 19.92162373,\n",
       "       19.86498297, 20.25191291, 20.14356961, 19.59002622, 19.99028022,\n",
       "       19.5905864 , 20.25191291, 20.65236882, 19.94755854, 19.24037897,\n",
       "       20.45488997, 20.08310677, 20.48782266, 19.42760634, 20.23127187,\n",
       "       19.94755854, 19.84907269, 19.68722862, 20.03125859, 19.8386494 ,\n",
       "       20.1297312 , 20.2535302 , 20.22027152, 19.68522083, 19.76043876,\n",
       "       19.9832951 , 20.02747669, 20.64216861, 19.6415025 , 20.10548543,\n",
       "       20.16818347, 20.40393327, 20.12427295, 19.8472974 , 20.54712453])"
      ]
     },
     "execution_count": 633,
     "metadata": {},
     "output_type": "execute_result"
    }
   ],
   "source": [
    "posterior_sample"
   ]
  },
  {
   "cell_type": "markdown",
   "metadata": {},
   "source": [
    "### Generating a sample from posterior"
   ]
  },
  {
   "cell_type": "code",
   "execution_count": 634,
   "metadata": {},
   "outputs": [
    {
     "data": {
      "text/plain": [
       "array([19.98856991, 20.02747669, 19.82309917, 19.50711455, 19.73802914,\n",
       "       19.94947871, 20.07296966, 20.04249965, 19.63903991, 19.73374381,\n",
       "       19.63851399, 19.55347285, 20.34234342, 19.59002622, 20.40393327,\n",
       "       19.83794549, 19.84796559, 20.53062019, 19.91581583, 19.85889276,\n",
       "       20.12427295, 20.48782266, 19.50432285, 20.41516417, 19.98270557,\n",
       "       19.8386494 , 20.2535302 , 19.95923006, 19.9175482 , 19.99614227,\n",
       "       20.2436758 , 19.8448574 , 19.40770534, 20.2876882 , 20.15249068,\n",
       "       20.08141193, 19.43231457, 19.6415025 , 19.45786661, 19.68522083,\n",
       "       20.14356961, 19.85044595, 20.31391132, 19.9062927 , 20.27855269,\n",
       "       19.73807456, 19.80654842, 20.25191291, 19.73616793, 20.26394617,\n",
       "       20.3980119 , 19.70565138, 20.25568424, 20.27568969, 19.99028022,\n",
       "       20.30430022, 20.08310677, 19.5905864 , 19.94529253, 20.04169922,\n",
       "       19.92370221, 20.19104958, 20.23937718, 19.86642998, 20.11544116,\n",
       "       19.86074824, 19.58937641, 20.07883539, 20.65236882, 19.68722862,\n",
       "       20.04681232, 20.23127187, 19.9879194 , 20.17374459, 20.02166432,\n",
       "       19.49441098, 19.42807938, 20.45113594, 19.902004  , 19.85329191,\n",
       "       20.37495964, 19.80312587, 19.24037897, 19.68815645, 19.89478749,\n",
       "       19.84760698, 20.10548543, 19.82537613, 19.82182227, 20.45488997,\n",
       "       19.60646804, 19.61947482, 19.42760634, 19.58861608, 19.83020998,\n",
       "       19.95357402, 20.03872627, 19.60505295, 20.07844518, 19.92002304,\n",
       "       20.13347629, 20.8604233 , 20.24325128, 20.2261753 , 19.73472542,\n",
       "       20.49740729, 19.79513977, 19.66212519, 19.8472974 , 20.64085256,\n",
       "       19.59829474, 19.93131645, 19.89022926, 20.05446791, 19.76043876,\n",
       "       20.1297312 , 19.78897302, 19.47788677, 19.83100279, 20.0769587 ,\n",
       "       19.51574235, 19.89738775, 19.92162373, 19.9533704 , 20.3378893 ,\n",
       "       19.65187102, 20.07859076, 20.76002406, 19.73891012, 19.50970466,\n",
       "       20.38940762, 19.73802068, 19.94755854, 19.8905315 , 19.78681184,\n",
       "       19.91204882, 19.63470193, 20.11023069, 19.65723371, 19.9278895 ,\n",
       "       20.33435528, 19.73234695, 20.26307548, 20.45987069, 19.9832951 ,\n",
       "       19.73161935, 19.58811362, 19.54055327, 20.22027152, 19.76182222,\n",
       "       19.4382669 , 19.81637243, 20.01226714, 20.22220616, 20.6180249 ,\n",
       "       19.85804229, 19.29275202, 20.66218054, 19.66807659, 19.85429807,\n",
       "       20.10208281, 19.60205454, 19.91203508, 20.29840502, 19.91458592,\n",
       "       20.16818347, 20.16700062, 19.95109465, 20.64216861, 19.86498297,\n",
       "       20.12615258, 19.79835845, 20.15603331, 19.72980097, 20.01543459,\n",
       "       20.28675079, 20.18071816, 20.3799482 , 19.7348429 , 20.02932596,\n",
       "       20.04104672, 20.22813225, 20.08914233, 19.59372708, 20.33135231,\n",
       "       19.80089042, 20.16461881, 20.18348179, 19.69891115, 19.70784397,\n",
       "       19.5405439 , 20.54712453, 19.84907269, 19.87690817, 20.27168465,\n",
       "       20.08039156, 19.72919793, 19.87320568, 19.74142424, 20.03125859])"
      ]
     },
     "execution_count": 634,
     "metadata": {},
     "output_type": "execute_result"
    }
   ],
   "source": [
    "posterior"
   ]
  },
  {
   "cell_type": "markdown",
   "metadata": {},
   "source": [
    "### Finding theoretical and sample posterior mean, median, variance, and st. deviation of the parameter"
   ]
  },
  {
   "cell_type": "code",
   "execution_count": 646,
   "metadata": {},
   "outputs": [
    {
     "name": "stdout",
     "output_type": "stream",
     "text": [
      "posterior_mean, sample_mean: 19.960962636306025 20.00922447668205\n"
     ]
    },
    {
     "data": {
      "text/plain": [
       "(19.960962636306025, 20.00922447668205)"
      ]
     },
     "execution_count": 646,
     "metadata": {},
     "output_type": "execute_result"
    }
   ],
   "source": [
    "posterior_mean, sample_mean = np.mean(posterior), np.mean(posterior_sample)\n",
    "print(\"posterior_mean, sample_mean:\",posterior_mean, sample_mean)"
   ]
  },
  {
   "cell_type": "code",
   "execution_count": 648,
   "metadata": {},
   "outputs": [
    {
     "name": "stdout",
     "output_type": "stream",
     "text": [
      "posterior_median, sample_median: 19.92266297086024 20.01987191556283\n"
     ]
    }
   ],
   "source": [
    "posterior_median, sample_median = np.median(posterior), np.median(posterior_sample)\n",
    "print(\"posterior_median, sample_median:\",posterior_median, sample_median)"
   ]
  },
  {
   "cell_type": "code",
   "execution_count": 649,
   "metadata": {},
   "outputs": [
    {
     "name": "stdout",
     "output_type": "stream",
     "text": [
      "posterior_var, sample_var: 0.09260162439872191 0.08915877022232907\n"
     ]
    }
   ],
   "source": [
    "posterior_var, sample_var = np.var(posterior), np.var(posterior_sample)\n",
    "print(\"posterior_var, sample_var:\", posterior_var, sample_var)"
   ]
  },
  {
   "cell_type": "code",
   "execution_count": 650,
   "metadata": {},
   "outputs": [
    {
     "name": "stdout",
     "output_type": "stream",
     "text": [
      "posterior_std, sample_std: 0.3043051501350608 0.2985946587304084\n"
     ]
    }
   ],
   "source": [
    "posterior_std, sample_std = np.std(posterior), np.std(posterior_sample)\n",
    "print(\"posterior_std, sample_std:\", posterior_std, sample_std)"
   ]
  },
  {
   "cell_type": "code",
   "execution_count": null,
   "metadata": {},
   "outputs": [],
   "source": []
  },
  {
   "cell_type": "code",
   "execution_count": null,
   "metadata": {},
   "outputs": [],
   "source": []
  },
  {
   "cell_type": "markdown",
   "metadata": {},
   "source": [
    "### Plotting the confidence interval and Bayesian (credible) interval for the parameter mean."
   ]
  },
  {
   "cell_type": "markdown",
   "metadata": {},
   "source": [
    "$$ \\bar{X} \\pm z_{\\alpha/2} \\frac{s}{\\sqrt{n}} $$ <br/> for 95% $$ z_{\\alpha/2} = 1.96$$"
   ]
  },
  {
   "cell_type": "code",
   "execution_count": 639,
   "metadata": {},
   "outputs": [
    {
     "name": "stdout",
     "output_type": "stream",
     "text": [
      "Confidence interval:\n",
      "(19.942540670524732, 20.075908282839368)\n"
     ]
    }
   ],
   "source": [
    "confidence_interval = sample_mean - 1.96*(posterior_std)/(math.sqrt(80)), sample_mean + 1.96*(posterior_std)/(math.sqrt(80))\n",
    "print(\"Confidence interval:\")\n",
    "print(confidence_interval)"
   ]
  },
  {
   "cell_type": "code",
   "execution_count": 640,
   "metadata": {},
   "outputs": [],
   "source": [
    "intervals = []\n",
    "sample_means = []\n",
    "\n",
    "for sample in range(30):\n",
    "    sample = np.random.choice(a= posterior, size = 80)\n",
    "    sample_mean_1 = sample.mean()\n",
    "    sample_means.append(sample_mean_1)\n",
    "\n",
    "  \n",
    "\n",
    "    confidence_interval = ( sample_mean_1 - 1.96*(posterior_std)/(math.sqrt(80)), \n",
    "                           sample_mean_1 + 1.96*(posterior_std)/(math.sqrt(80)))  \n",
    "    \n",
    "    intervals.append(confidence_interval)"
   ]
  },
  {
   "cell_type": "code",
   "execution_count": 641,
   "metadata": {},
   "outputs": [
    {
     "data": {
      "image/png": "[encoded data removed]",
      "text/plain": [
       "<Figure size 432x288 with 1 Axes>"
      ]
     },
     "metadata": {
      "needs_background": "light"
     },
     "output_type": "display_data"
    }
   ],
   "source": [
    "plt.errorbar(x=np.arange(0.1, 30, 1), y=sample_means, yerr=[(top-bot)/2 for top,bot in intervals], fmt='o')\n",
    "plt.hlines(xmin=0, xmax=30, y=posterior_mean, linewidth=2.0, color=\"red\");"
   ]
  },
  {
   "cell_type": "code",
   "execution_count": 642,
   "metadata": {},
   "outputs": [
    {
     "data": {
      "image/png": "[encoded data removed]",
      "text/plain": [
       "<Figure size 432x288 with 1 Axes>"
      ]
     },
     "metadata": {
      "needs_background": "light"
     },
     "output_type": "display_data"
    }
   ],
   "source": [
    "mean_b, var_b, std_b = stats.bayes_mvs(posterior_sample, alpha=0.95)\n",
    "\n",
    "fig = plt.figure()\n",
    "ax = fig.add_subplot(111)\n",
    "ax.hist(posterior_sample, bins=10, density=True)\n",
    "ax.vlines(mean_b.statistic, 0, 1, colors='r', label='Estimated mean')\n",
    "ax.axvspan(mean_b.minmax[0],mean_b.minmax[1], 0, 1, facecolor='r',\n",
    "           alpha=0.4, label=r'Estimated mean (95% limits)')\n",
    "\n",
    "\n",
    "ax.legend(fontsize=10)\n",
    "ax.set_xlim([19, 21])\n",
    "ax.set_ylim([0, 2])\n",
    "plt.show()"
   ]
  },
  {
   "cell_type": "code",
   "execution_count": 643,
   "metadata": {},
   "outputs": [
    {
     "data": {
      "text/plain": [
       "Mean(statistic=19.960962636306025, minmax=(19.925314525614642, 19.99661074699741))"
      ]
     },
     "execution_count": 643,
     "metadata": {},
     "output_type": "execute_result"
    }
   ],
   "source": [
    "mean"
   ]
  },
  {
   "cell_type": "code",
   "execution_count": null,
   "metadata": {},
   "outputs": [],
   "source": []
  }
 ],
 "metadata": {
  "kernelspec": {
   "display_name": "Python 3",
   "language": "python",
   "name": "python3"
  },
  "language_info": {
   "codemirror_mode": {
    "name": "ipython",
    "version": 3
   },
   "file_extension": ".py",
   "mimetype": "text/x-python",
   "name": "python",
   "nbconvert_exporter": "python",
   "pygments_lexer": "ipython3",
   "version": "3.7.4"
  }
 },
 "nbformat": 4,
 "nbformat_minor": 2
}
